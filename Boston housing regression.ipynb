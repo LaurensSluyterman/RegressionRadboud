{
 "cells": [
  {
   "cell_type": "code",
   "execution_count": 25,
   "outputs": [],
   "source": [
    "import pandas as pd\n",
    "import numpy as np\n",
    "import matplotlib.pyplot as plt\n",
    "from tensorflow.keras.models import Model\n",
    "from scipy.stats import norm\n",
    "from tensorflow.keras.layers import Input, Dense\n",
    "from sklearn.model_selection import train_test_split"
   ],
   "metadata": {
    "collapsed": false,
    "pycharm": {
     "name": "#%%\n"
    }
   }
  },
  {
   "cell_type": "markdown",
   "source": [
    "## Loading the data"
   ],
   "metadata": {
    "collapsed": false,
    "pycharm": {
     "name": "#%% md\n"
    }
   }
  },
  {
   "cell_type": "code",
   "execution_count": 26,
   "outputs": [],
   "source": [
    "data_url = \"http://lib.stat.cmu.edu/datasets/boston\"\n",
    "raw_df = pd.read_csv(data_url, sep=\"\\s+\", skiprows=22, header=None)\n",
    "data = np.hstack([raw_df.values[::2, :], raw_df.values[1::2, :2]])\n",
    "target = raw_df.values[1::2, 2]"
   ],
   "metadata": {
    "collapsed": false,
    "pycharm": {
     "name": "#%%\n"
    }
   }
  },
  {
   "cell_type": "markdown",
   "source": [
    "## Step 0: Analyzing the data"
   ],
   "metadata": {
    "collapsed": false,
    "pycharm": {
     "name": "#%% md\n"
    }
   }
  },
  {
   "cell_type": "markdown",
   "source": [
    "A good first step is to analyze the data before training. Are there any missing values? Are there any clear outliers? For boston housing, the 9th covariate is categorical. We could one-hot encode this during the preprocessing."
   ],
   "metadata": {
    "collapsed": false,
    "pycharm": {
     "name": "#%% md\n"
    }
   }
  },
  {
   "cell_type": "code",
   "execution_count": 27,
   "outputs": [
    {
     "data": {
      "text/plain": "array([[6.3200e-03, 1.8000e+01, 2.3100e+00, 0.0000e+00, 5.3800e-01,\n        6.5750e+00, 6.5200e+01, 4.0900e+00, 1.0000e+00, 2.9600e+02,\n        1.5300e+01, 3.9690e+02, 4.9800e+00],\n       [2.7310e-02, 0.0000e+00, 7.0700e+00, 0.0000e+00, 4.6900e-01,\n        6.4210e+00, 7.8900e+01, 4.9671e+00, 2.0000e+00, 2.4200e+02,\n        1.7800e+01, 3.9690e+02, 9.1400e+00],\n       [2.7290e-02, 0.0000e+00, 7.0700e+00, 0.0000e+00, 4.6900e-01,\n        7.1850e+00, 6.1100e+01, 4.9671e+00, 2.0000e+00, 2.4200e+02,\n        1.7800e+01, 3.9283e+02, 4.0300e+00],\n       [3.2370e-02, 0.0000e+00, 2.1800e+00, 0.0000e+00, 4.5800e-01,\n        6.9980e+00, 4.5800e+01, 6.0622e+00, 3.0000e+00, 2.2200e+02,\n        1.8700e+01, 3.9463e+02, 2.9400e+00],\n       [6.9050e-02, 0.0000e+00, 2.1800e+00, 0.0000e+00, 4.5800e-01,\n        7.1470e+00, 5.4200e+01, 6.0622e+00, 3.0000e+00, 2.2200e+02,\n        1.8700e+01, 3.9690e+02, 5.3300e+00]])"
     },
     "execution_count": 27,
     "metadata": {},
     "output_type": "execute_result"
    }
   ],
   "source": [
    "data[0:5]"
   ],
   "metadata": {
    "collapsed": false,
    "pycharm": {
     "name": "#%%\n"
    }
   }
  },
  {
   "cell_type": "markdown",
   "source": [
    "You can finish the analyzing step yourself, for instance by adding some pairwise plots."
   ],
   "metadata": {
    "collapsed": false,
    "pycharm": {
     "name": "#%% md\n"
    }
   }
  },
  {
   "cell_type": "markdown",
   "source": [
    "## Step 1: Preprocessing"
   ],
   "metadata": {
    "collapsed": false,
    "pycharm": {
     "name": "#%% md\n"
    }
   }
  },
  {
   "cell_type": "markdown",
   "source": [
    "It is rare that data does not need some form of preprocessing before training a model. At the very least, we want to standardize the data and split it in a training set, test set, and validation set. Note that for smaller sets, cross-validation is a good alternative. The idea of this split is that we use the training set to train, the validation set to find the optimal hyperparameters, and then the test set to get an estimate of the performance of the model."
   ],
   "metadata": {
    "collapsed": false,
    "pycharm": {
     "name": "#%% md\n"
    }
   }
  },
  {
   "cell_type": "code",
   "execution_count": 28,
   "outputs": [],
   "source": [
    "X_train, X_rest, Y_train, Y_rest = train_test_split(data, target, test_size=0.3) # Set aside 30% of the data set\n",
    "X_test, X_val, Y_test, Y_val = train_test_split(X_rest, Y_rest, test_size=0.5) # Split this 30% in half"
   ],
   "metadata": {
    "collapsed": false,
    "pycharm": {
     "name": "#%%\n"
    }
   }
  },
  {
   "cell_type": "markdown",
   "source": [
    "We standardize the covariates and targets (why?). Make sure to only use information from the training set!"
   ],
   "metadata": {
    "collapsed": false,
    "pycharm": {
     "name": "#%% md\n"
    }
   }
  },
  {
   "cell_type": "code",
   "execution_count": 29,
   "outputs": [],
   "source": [
    "X_mean = np.mean(X_train, axis=0)\n",
    "X_std = np.std(X_train, axis=0)\n",
    "Y_mean = np.mean(Y_train)\n",
    "Y_std = np.std(Y_train)\n",
    "\n",
    "X_train_n = (X_train - X_mean) / X_std\n",
    "X_test_n = (X_test - X_mean) / X_std\n",
    "X_val_n = (X_val - X_mean) / X_std\n",
    "\n",
    "Y_train_n = (Y_train - Y_mean) / Y_std\n",
    "Y_test_n = (Y_test - Y_mean) / Y_std\n",
    "Y_val_n = (Y_val - Y_mean) / Y_std\n"
   ],
   "metadata": {
    "collapsed": false,
    "pycharm": {
     "name": "#%%\n"
    }
   }
  },
  {
   "cell_type": "markdown",
   "source": [
    "More can be done in this step, for instance one-hot encoding the categorical variable."
   ],
   "metadata": {
    "collapsed": false,
    "pycharm": {
     "name": "#%% md\n"
    }
   }
  },
  {
   "cell_type": "markdown",
   "source": [
    "## Step 2: Creating a model"
   ],
   "metadata": {
    "collapsed": false,
    "pycharm": {
     "name": "#%% md\n"
    }
   }
  },
  {
   "cell_type": "markdown",
   "source": [
    "In this notebook, we make a simple neural network using keras and tensorflow. Note that pytorch also has an excellent framework to do this. We will use the functional approach instead of the sequential approach. The difference is explained very well online."
   ],
   "metadata": {
    "collapsed": false,
    "pycharm": {
     "name": "#%% md\n"
    }
   }
  },
  {
   "cell_type": "code",
   "execution_count": 30,
   "outputs": [
    {
     "name": "stdout",
     "output_type": "stream",
     "text": [
      "Model: \"model_3\"\n",
      "_________________________________________________________________\n",
      " Layer (type)                Output Shape              Param #   \n",
      "=================================================================\n",
      " input_4 (InputLayer)        [(None, 13)]              0         \n",
      "                                                                 \n",
      " dense_10 (Dense)            (None, 30)                420       \n",
      "                                                                 \n",
      " dense_11 (Dense)            (None, 30)                930       \n",
      "                                                                 \n",
      " dense_12 (Dense)            (None, 30)                930       \n",
      "                                                                 \n",
      " dense_13 (Dense)            (None, 1)                 31        \n",
      "                                                                 \n",
      "=================================================================\n",
      "Total params: 2311 (9.03 KB)\n",
      "Trainable params: 2311 (9.03 KB)\n",
      "Non-trainable params: 0 (0.00 Byte)\n",
      "_________________________________________________________________\n"
     ]
    }
   ],
   "source": [
    "n_dim = len(X_train[0])\n",
    "\n",
    "inputs = Input(shape=(n_dim,))\n",
    "x = Dense(30, activation='relu')(inputs)  # Look up what the function is of 'relu'\n",
    "x = Dense(30, activation='relu')(x)\n",
    "x = Dense(30, activation='relu')(x)\n",
    "outputs = Dense(1)(x)\n",
    "\n",
    "# Create the actual model\n",
    "model = Model(inputs=inputs, outputs=outputs)\n",
    "\n",
    "# Compile\n",
    "model.compile(optimizer='adam', loss='mse')  # Use 'categorical_crossentropy' for classification\n",
    "\n",
    "# Get a summary of the model, check if everything is as intended\n",
    "model.summary()"
   ],
   "metadata": {
    "collapsed": false,
    "pycharm": {
     "name": "#%%\n"
    }
   }
  },
  {
   "cell_type": "code",
   "execution_count": 31,
   "outputs": [
    {
     "data": {
      "text/plain": "<keras.src.callbacks.History at 0x7fb4a717c490>"
     },
     "execution_count": 31,
     "metadata": {},
     "output_type": "execute_result"
    }
   ],
   "source": [
    "model.fit(X_train_n, Y_train_n, epochs=500, batch_size=50, verbose=0)"
   ],
   "metadata": {
    "collapsed": false,
    "pycharm": {
     "name": "#%%\n"
    }
   }
  },
  {
   "cell_type": "markdown",
   "source": [
    "Note that the performance of the model on the training set is much better than on the test set. This overfitting is very common for neural networks and special steps need to be taken to prevent this. Common approaches are to training for shorter, use restore the weights to the epoch with the lowest test-loss, adding l2-regularization, adding dropout. All these techniques are explained perfectly online."
   ],
   "metadata": {
    "collapsed": false,
    "pycharm": {
     "name": "#%% md\n"
    }
   }
  },
  {
   "cell_type": "code",
   "execution_count": 32,
   "outputs": [
    {
     "name": "stdout",
     "output_type": "stream",
     "text": [
      "12/12 [==============================] - 0s 3ms/step - loss: 0.0042\n",
      "0.004203654360026121\n",
      "3/3 [==============================] - 0s 5ms/step - loss: 0.1663\n",
      "0.1663094013929367\n"
     ]
    }
   ],
   "source": [
    "print(model.evaluate(X_train_n, Y_train_n))\n",
    "print(model.evaluate(X_test_n, Y_test_n))"
   ],
   "metadata": {
    "collapsed": false,
    "pycharm": {
     "name": "#%%\n"
    }
   }
  },
  {
   "cell_type": "markdown",
   "source": [
    "We will now train a second, smaller, network, that estimates the error of the first network"
   ],
   "metadata": {
    "collapsed": false,
    "pycharm": {
     "name": "#%% md\n"
    }
   }
  },
  {
   "cell_type": "code",
   "execution_count": 33,
   "outputs": [
    {
     "name": "stdout",
     "output_type": "stream",
     "text": [
      "12/12 [==============================] - 0s 2ms/step\n"
     ]
    }
   ],
   "source": [
    "train_Z = (Y_train_n - model.predict(X_train_n)[:, 0])**2"
   ],
   "metadata": {
    "collapsed": false,
    "pycharm": {
     "name": "#%%\n"
    }
   }
  },
  {
   "cell_type": "code",
   "execution_count": 34,
   "outputs": [
    {
     "data": {
      "text/plain": "<keras.src.callbacks.History at 0x7fb4a79f8640>"
     },
     "execution_count": 34,
     "metadata": {},
     "output_type": "execute_result"
    }
   ],
   "source": [
    "inputs = Input(shape=(n_dim,))\n",
    "x = Dense(20, activation='relu')(inputs)  # Look up what the function is of 'relu'\n",
    "x = Dense(20, activation='relu')(x)\n",
    "outputs = Dense(1, activation='softplus')(x)  # We use a softplus activation to enforce positivity\n",
    "\n",
    "# Create the actual model\n",
    "model_var = Model(inputs=inputs, outputs=outputs)\n",
    "\n",
    "# Compile the model\n",
    "model_var.compile(optimizer='adam', loss='mse')\n",
    "\n",
    "# Fit the model\n",
    "model_var.fit(X_train_n, train_Z, epochs = 300, batch_size = 50, verbose = 0)"
   ],
   "metadata": {
    "collapsed": false,
    "pycharm": {
     "name": "#%%\n"
    }
   }
  },
  {
   "cell_type": "code",
   "execution_count": 35,
   "outputs": [
    {
     "name": "stdout",
     "output_type": "stream",
     "text": [
      "3/3 [==============================] - 0s 3ms/step\n",
      "[[5.6651682e-03]\n",
      " [8.8999479e-04]\n",
      " [1.1354317e-03]\n",
      " [5.9053889e-03]\n",
      " [7.0597492e-03]\n",
      " [2.8443066e-03]\n",
      " [2.8038833e-03]\n",
      " [5.0742142e-03]\n",
      " [4.8640151e-05]\n",
      " [5.5107241e-05]]\n"
     ]
    }
   ],
   "source": [
    "print(model_var.predict(X_test_n)[0:10])"
   ],
   "metadata": {
    "collapsed": false,
    "pycharm": {
     "name": "#%%\n"
    }
   }
  },
  {
   "cell_type": "markdown",
   "source": [
    "## Step 3: Optimizing the hyperparameters (not implemented)"
   ],
   "metadata": {
    "collapsed": false,
    "pycharm": {
     "name": "#%% md\n"
    }
   }
  },
  {
   "cell_type": "markdown",
   "source": [
    "This step is generally the most work. We have until now chosen many hyperparameters such as total training time, batch-size, choice of activation, choice of optimizer, and network architecture. All of these choices have an effect on the model performance and your first guess is rarely the best one. We must use the validation and test set the find the best model and to evaluate its performance. There are nice custom made tools for this, many of which can be found in the sklearn library."
   ],
   "metadata": {
    "collapsed": false,
    "pycharm": {
     "name": "#%% md\n"
    }
   }
  },
  {
   "cell_type": "markdown",
   "source": [
    "## Additional model validation"
   ],
   "metadata": {
    "collapsed": false,
    "pycharm": {
     "name": "#%% md\n"
    }
   }
  },
  {
   "cell_type": "code",
   "execution_count": 36,
   "outputs": [
    {
     "name": "stdout",
     "output_type": "stream",
     "text": [
      "3/3 [==============================] - 0s 3ms/step\n",
      "3/3 [==============================] - 0s 3ms/step\n"
     ]
    },
    {
     "data": {
      "text/plain": "<Figure size 640x480 with 1 Axes>",
      "image/png": "[encoded data removed]"
     },
     "metadata": {},
     "output_type": "display_data"
    }
   ],
   "source": [
    "z_scores = (Y_test_n - model.predict(X_test_n)[:, 0]) / np.sqrt(model_var.predict(X_test_n)[:, 0])\n",
    "plt.hist(z_scores, density=True, bins=20)\n",
    "xmin, xmax = plt.xlim()\n",
    "x = np.linspace(xmin, xmax, 400)\n",
    "p = norm.pdf(x, 0, 1)\n",
    "plt.plot(x, p)\n",
    "plt.ylabel('z')\n",
    "plt.title(f'mean: {np.round(np.mean(z_scores),2)}, std: {np.round(np.std(z_scores),2)}')\n",
    "plt.show()"
   ],
   "metadata": {
    "collapsed": false,
    "pycharm": {
     "name": "#%%\n"
    }
   }
  },
  {
   "cell_type": "markdown",
   "source": [
    "Conclusion: we are underestimating the variance. This is likely caused by overfitting, highlighting the importance of a good hyperparameter search"
   ],
   "metadata": {
    "collapsed": false,
    "pycharm": {
     "name": "#%% md\n"
    }
   }
  },
  {
   "cell_type": "code",
   "execution_count": 36,
   "outputs": [],
   "source": [],
   "metadata": {
    "collapsed": false,
    "pycharm": {
     "name": "#%%\n"
    }
   }
  },
  {
   "cell_type": "markdown",
   "source": [
    "Can we get a rough idea of how important each covariate is? We take the average input and see what the effect is of adding 0.1 to each of the covariates."
   ],
   "metadata": {
    "collapsed": false,
    "pycharm": {
     "name": "#%% md\n"
    }
   }
  },
  {
   "cell_type": "code",
   "execution_count": 37,
   "outputs": [],
   "source": [
    "original_predictions = model.predict(X_test_n, verbose=0)\n",
    "importance = np.zeros(n_dim)\n",
    "for i in range(n_dim):\n",
    "  test_data_imp = X_test_n\n",
    "  test_data_imp[:, i] = X_test_n[:,i]+0.1\n",
    "  predictions_imp = model.predict(test_data_imp, verbose=0)\n",
    "  importance[i]=10*np.mean(np.abs(predictions_imp - original_predictions))"
   ],
   "metadata": {
    "collapsed": false,
    "pycharm": {
     "name": "#%%\n"
    }
   }
  },
  {
   "cell_type": "code",
   "execution_count": 38,
   "outputs": [
    {
     "data": {
      "text/plain": "array([0.35194833, 0.33325236, 0.38115989, 0.36992688, 0.52451599,\n       0.67606136, 0.67363128, 0.72003782, 0.7761541 , 0.67583874,\n       0.71013428, 0.82783036, 0.94734147])"
     },
     "execution_count": 38,
     "metadata": {},
     "output_type": "execute_result"
    }
   ],
   "source": [
    "importance"
   ],
   "metadata": {
    "collapsed": false,
    "pycharm": {
     "name": "#%%\n"
    }
   }
  },
  {
   "cell_type": "markdown",
   "source": [
    "We repeat this idea, but instead of only adding 0.1, we take each covariate through the entire range of values in the test set. This gives a visual intuition on how each covariate influences the model predictions."
   ],
   "metadata": {
    "collapsed": false,
    "pycharm": {
     "name": "#%% md\n"
    }
   }
  },
  {
   "cell_type": "code",
   "execution_count": 39,
   "outputs": [
    {
     "name": "stderr",
     "output_type": "stream",
     "text": [
      "/var/folders/gs/qmtxgkvd04l0qd255jxrzrz00000gn/T/ipykernel_63143/1854474064.py:12: DeprecationWarning: Conversion of an array with ndim > 0 to a scalar is deprecated, and will error in future. Ensure you extract a single element from your array before performing this operation. (Deprecated NumPy 1.25.)\n",
      "  m_pred[index, i]= model.predict(np.array([x_perturbed]), verbose=0)\n"
     ]
    }
   ],
   "source": [
    "m_test_data = np.mean(X_test_n, axis=0)\n",
    "\n",
    "M=20\n",
    "test_values = np.zeros((n_dim, M))\n",
    "m_pred = np.zeros((n_dim, M))\n",
    "for index in range(n_dim):\n",
    "  test_x = np.linspace(min(X_test_n[:,index]),max(X_test_n[:,index]), M)\n",
    "  test_values[index] = test_x\n",
    "  for i in range(M):\n",
    "    x_perturbed = m_test_data\n",
    "    x_perturbed[index] = test_x[i]\n",
    "    m_pred[index, i] = model.predict(np.array([x_perturbed]), verbose=0)"
   ],
   "metadata": {
    "collapsed": false,
    "pycharm": {
     "name": "#%%\n"
    }
   }
  },
  {
   "cell_type": "code",
   "execution_count": 40,
   "outputs": [
    {
     "data": {
      "text/plain": "<Figure size 640x480 with 1 Axes>",
      "image/png": "[encoded data removed]"
     },
     "metadata": {},
     "output_type": "display_data"
    }
   ],
   "source": [
    "for index in range(n_dim):\n",
    "  plt.plot(test_values[index], m_pred[index], label=index)\n",
    "plt.legend()\n",
    "plt.title('Effect of perturbing the covariates')\n",
    "plt.ylabel('y')\n",
    "plt.xlabel('x')\n",
    "plt.show()"
   ],
   "metadata": {
    "collapsed": false,
    "pycharm": {
     "name": "#%%\n"
    }
   }
  },
  {
   "cell_type": "code",
   "execution_count": null,
   "outputs": [],
   "source": [],
   "metadata": {
    "collapsed": false,
    "pycharm": {
     "name": "#%%\n"
    }
   }
  }
 ],
 "metadata": {
  "kernelspec": {
   "display_name": "Python 3",
   "language": "python",
   "name": "python3"
  },
  "language_info": {
   "codemirror_mode": {
    "name": "ipython",
    "version": 2
   },
   "file_extension": ".py",
   "mimetype": "text/x-python",
   "name": "python",
   "nbconvert_exporter": "python",
   "pygments_lexer": "ipython2",
   "version": "2.7.6"
  }
 },
 "nbformat": 4,
 "nbformat_minor": 0
}